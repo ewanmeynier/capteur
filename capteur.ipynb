{
 "cells": [
  {
   "cell_type": "markdown",
   "metadata": {},
   "source": [
    "# <center>Projet d'ISN </center>"
   ]
  },
  {
   "cell_type": "markdown",
   "metadata": {},
   "source": [
    "# Présentation "
   ]
  },
  {
   "cell_type": "markdown",
   "metadata": {},
   "source": [
    "### Notre projet consiste à créer un programme qui permet de compter le nombre de personnes à l'entrée d'un lieu et de réguler le passage en comptant ceux qui sortent par rapport à ceux qui entrent."
   ]
  },
  {
   "cell_type": "markdown",
   "metadata": {},
   "source": [
    "##### Prenons l'exemple d'un self. Ce programme permet d'indiquer aux élèves s'il reste des places disponible dans le self."
   ]
  },
  {
   "cell_type": "markdown",
   "metadata": {},
   "source": [
    ![](schema_self.png width=50% )
   ]
  },
  {
   "cell_type": "markdown",
   "metadata": {},
   "source": [
    "# Programmation sur Jupyter Notebook"
   ]
  },
  {
   "cell_type": "markdown",
   "metadata": {},
   "source": [
    "#### Ici nous allons créer deux boutons simulant l'entré et et la sortie de la personne "
   ]
  },
  {
   "cell_type": "markdown",
   "metadata": {},
   "source": [
    "Suivez ce code et vérifier son fonctionnement en cliquant sur les boutons vert \"entrée\" et jaune \"sortie\" !"
   ]
  },
  {
   "cell_type": "code",
   "execution_count": 1,
   "metadata": {},
   "outputs": [],
   "source": [
    "import ipywidgets as widgets #c'est obligatoire d'importer l'ipywidgets sinon on ne peut pas créer de boutons "
   ]
  },
  {
   "cell_type": "code",
   "execution_count": 2,
   "metadata": {},
   "outputs": [
    {
     "data": {
      "application/vnd.jupyter.widget-view+json": {
       "model_id": "af7625c838834eb4ab1b42040f00a543",
       "version_major": 2,
       "version_minor": 0
      },
      "text/plain": [
       "Button(button_style='success', description='entrée', icon='check', style=ButtonStyle(), tooltip='Click me')"
      ]
     },
     "metadata": {},
     "output_type": "display_data"
    },
    {
     "data": {
      "application/vnd.jupyter.widget-view+json": {
       "model_id": "61b693eda81648ba87554f50a5bf6724",
       "version_major": 2,
       "version_minor": 0
      },
      "text/plain": [
       "Button(button_style='warning', description='sortie', icon='check', style=ButtonStyle(), tooltip='Click me')"
      ]
     },
     "metadata": {},
     "output_type": "display_data"
    }
   ],
   "source": [
    "from IPython.display import display \n",
    "\n",
    "button = widgets.Button(      #ici on définit la variable du bouton \"entrée\"\n",
    "    description='entrée',\n",
    "    disabled=False,           #le bouton prend à l'initial une variable 0\n",
    "    button_style='success',   #les lignes suivantes définissent le style du bouton \n",
    "    tooltip='Click me', \n",
    "    icon='check'\n",
    ")\n",
    "display(button)\n",
    "\n",
    "def entre(b):\n",
    "    print(\"entré\")\n",
    "    \n",
    "button.on_click(entre)\n",
    "\n",
    "\n",
    "\n",
    "button = widgets.Button(      #ici on définit la variable du bouton \"sortie\"\n",
    "    description='sortie', \n",
    "    disabled=False,           #le bouton prend à l'initial une variable 0\n",
    "    button_style='warning',   #les lignes suivantes définissent le style du bouton\n",
    "    tooltip='Click me',\n",
    "    icon='check'\n",
    ")\n",
    "display(button)\n",
    "\n",
    "def sortie(b):\n",
    "    print(\"sortie\")\n",
    "    \n",
    "button.on_click(sortie)\n"
   ]
  },
  {
   "cell_type": "markdown",
   "metadata": {},
   "source": [
    "#### Ici nous allons créer une interface qui va pouvoir indiquer par un symbole programmer au préalable si il reste des places dans le self ou si il est plein"
   ]
  },
  {
   "cell_type": "code",
   "execution_count": 1,
   "metadata": {},
   "outputs": [],
   "source": [
    "from ipyturtle import Turtle"
   ]
  },
  {
   "cell_type": "code",
   "execution_count": 2,
   "metadata": {},
   "outputs": [],
   "source": [
    "t = Turtle(fixed=False, width=800, height=120) #paramètre de l'interface"
   ]
  },
  {
   "cell_type": "code",
   "execution_count": 3,
   "metadata": {},
   "outputs": [],
   "source": [
    "def yes():#création d'une fontion nommée yes\n",
    "    for i in range(1):#on repete une fois les ordres suivant\n",
    "        t.right(135)#tourner de 135° à droite\n",
    "        t.forward(50)#avancer de 50 \n",
    "    for i in range(1):#on repete une fois les ordres suivant\n",
    "        t.left(100)#tourner de 100° à gauche\n",
    "        t.forward(90)#avancer de 90\n",
    "    "
   ]
  },
  {
   "cell_type": "code",
   "execution_count": 4,
   "metadata": {},
   "outputs": [],
   "source": [
    "def non():#création d'une fontion nommée non\n",
    "    for i in range(360):#on repete 360 fois les ordres suivant\n",
    "        t.forward(1)#avancer de 1\n",
    "        t.right(1)#tourner de 1° à droite\n",
    "    for i in range(1):#on repete une fois les ordres suivant\n",
    "        t.right(90)#tourner de 90° à droite\n",
    "        t.forward(125)#avancer de 125"
   ]
  },
  {
   "cell_type": "code",
   "execution_count": 5,
   "metadata": {},
   "outputs": [],
   "source": [
    "t.reset()#on reprend à 0 le turtle"
   ]
  },
  {
   "cell_type": "code",
   "execution_count": 6,
   "metadata": {
    "scrolled": true
   },
   "outputs": [
    {
     "data": {
      "application/vnd.jupyter.widget-view+json": {
       "model_id": "83a8f145a57b44d09c79a83755c2134f",
       "version_major": 2,
       "version_minor": 0
      },
      "text/plain": [
       "Turtle()"
      ]
     },
     "metadata": {},
     "output_type": "display_data"
    }
   ],
   "source": [
    "t #mise en place de la turtle définie au préalable. Suivant la fonction appelée, la commande du dessin s'effectue. "
   ]
  },
  {
   "cell_type": "code",
   "execution_count": 7,
   "metadata": {},
   "outputs": [],
   "source": [
    "yes()#on appel la fonction yes() qui correspond à la signification qui reste des places."
   ]
  },
  {
   "cell_type": "code",
   "execution_count": 78,
   "metadata": {},
   "outputs": [],
   "source": [
    "non()#on appel la fonction non() qui correspond à la signification qui ne reste pas de places."
   ]
  },
  {
   "cell_type": "code",
   "execution_count": 82,
   "metadata": {},
   "outputs": [
    {
     "data": {
      "application/vnd.jupyter.widget-view+json": {
       "model_id": "cbb6949b39bc4d208191d118b62cf476",
       "version_major": 2,
       "version_minor": 0
      },
      "text/plain": [
       "Button(button_style='success', description='entrée', icon='check', style=ButtonStyle(), tooltip='Click me')"
      ]
     },
     "metadata": {},
     "output_type": "display_data"
    },
    {
     "data": {
      "application/vnd.jupyter.widget-view+json": {
       "model_id": "84baf9c11aec47f59e099400aaf153c0",
       "version_major": 2,
       "version_minor": 0
      },
      "text/plain": [
       "Button(button_style='warning', description='sortie', icon='check', style=ButtonStyle(), tooltip='Click me')"
      ]
     },
     "metadata": {},
     "output_type": "display_data"
    }
   ],
   "source": [
    "from IPython.display import display \n",
    "\n",
    "n=0\n",
    "\n",
    "button = widgets.Button(      #ici on définit la variable du bouton \"entrée\"\n",
    "    description='entrée',\n",
    "    disabled=False,           #le bouton prend à l'initial une variable 0\n",
    "    button_style='success',   #les lignes suivantes définissent le style du bouton \n",
    "    tooltip='Click me', \n",
    "    icon='check'\n",
    "    \n",
    ")\n",
    "display(button)\n",
    "    \n",
    "def entre(b):\n",
    "    n=1\n",
    "    print(\"entré\")\n",
    "    print(n)\n",
    "button.on_click(entre)\n",
    "\n",
    "\n",
    "\n",
    "button = widgets.Button(      #ici on définit la variable du bouton \"sortie\"\n",
    "    description='sortie', \n",
    "    disabled=False,           #le bouton prend à l'initial une variable 0\n",
    "    button_style='warning',   #les lignes suivantes définissent le style du bouton\n",
    "    tooltip='Click me',\n",
    "    icon='check'\n",
    ")\n",
    "display(button)\n",
    "\n",
    "def sortie(b):\n",
    "    n=-1\n",
    "    print(\"sortie\")\n",
    "    print(n)\n",
    "\n",
    "button.on_click(sortie)\n",
    "\n"
   ]
  },
  {
   "cell_type": "raw",
   "metadata": {},
   "source": [
    "codage de la carte microbit son sur MU\n",
    "'\n",
    "#Ecrit ton programme ici ;-)\n",
    "from microbit import *\n",
    "import music\n",
    "\n",
    "while True:\n",
    "    if button_a.is_pressed():\n",
    "        for freq in range(880, 1760, 16):\n",
    "            music.play(music.POWER_UP)\n",
    "    if button_b.is_pressed():\n",
    "        for freq in range(1760, 880, -16):\n",
    "            music.play(music.JUMP_DOWN)\n",
    "'"
   ]
  },
  {
   "cell_type": "markdown",
   "metadata": {},
   "source": [
    "# Programmation BBC Micro:bit avec l'éditeur Mu"
   ]
  },
  {
   "cell_type": "markdown",
   "metadata": {},
   "source": [
    "Au moyen du câble fourni, raccordez la carte BBC micro:bit sur un port USB de l'ordinateur. Le PC doit reconnaitre la carte comme un nouveau lecteur nommé : MICROBIT (E:)"
   ]
  },
  {
   "cell_type": "markdown",
   "metadata": {},
   "source": [
    "Ouvrez le logiciel Mu et essayer différents codes. Puis il faut cliquer sur le bouton “Flash” qui permet en quelques secondes de téléverser votre code dans la mémoire flash du µC du BBC micro:bit en effaçant et en remplaçant le programme précédent."
   ]
  },
  {
   "cell_type": "markdown",
   "metadata": {},
   "source": [
    "## Boutons poussoirs\n",
    "\n",
    <img src= "image/buttons.png" width="40" >
   ]
  },
  {
   "cell_type": "markdown",
   "metadata": {},
   "source": [
    "### Opérateurs Booléens :\n",
    "Avec les deux entrées TOR (Tout Ou Rien), le bouton A, le bouton B, qui ne peuvent prendre chacun que deux valeurs booléennes `False = 0` `True = 1` nous pouvons programmer et tester des fonctions de logique booléenne."
   ]
  },
  {
   "cell_type": "code",
   "execution_count": null,
   "metadata": {},
   "outputs": [],
   "source": [
    "from microbit import *\n",
    "\n",
    "while True:\n",
    "   \n",
    "    if button_a.is_pressed() and button_b.is_pressed():\n",
    "        display.scroll(\"0\")    #la microbit affiche la valeur\n",
    "        break\n",
    "    \n",
    "    elif button_a.is_pressed():\n",
    "        display.scroll(\"-1\")   #la microbit affiche la valeur\n",
    "    \n",
    "    elif button_b.is_pressed():\n",
    "        display.scroll(\"+1\")   #la microbit affiche la valeur"
   ]
  },
  {
   "cell_type": "markdown",
   "metadata": {},
   "source": [
    "On peut également y ajouter une variable qui correspond au nombre de personnes ainsi qu'une image en fonction de l'instruction."
   ]
  },
  {
   "cell_type": "code",
   "execution_count": null,
   "metadata": {},
   "outputs": [],
   "source": [
    "from microbit import *\n",
    "\n",
    "n = 0 #n = nombre de personnes\n",
    "\n",
    "while True:\n",
    "   \n",
    "    if button_a.is_pressed() and button_b.is_pressed():\n",
    "        print(n)\n",
    "        break\n",
    "    \n",
    "    elif button_a.is_pressed():\n",
    "        n=n-1  #n prend la valeur n-1\n",
    "        sleep(5000)  #la microbit s'endort pendant un certain temps en ms (ici 5s) \n",
    "        print(n)\n",
    "        display.scroll(str(button_a.get_presses()))#la microbit affiche le nombre de fois où le bouton \"a\" a été pressé en un temps donné\n",
    "        display.show(Image.SAD)  #un visage triste apparaît\n",
    "    \n",
    "    elif button_b.is_pressed():\n",
    "        n=n+1  #n prend la valeur n+1\n",
    "        sleep(5000)  #la microbit s'endort pendant un certain temps en ms (ici 5s)\n",
    "        print(n)\n",
    "        display.scroll(str(button_b.get_presses()))#la microbit affiche le nombre de fois où le bouton \"a\" a été pressé en un temps donné\n",
    "        display.show(Image.HAPPY) #un visage content apparaît"
   ]
  },
  {
   "cell_type": "markdown",
   "metadata": {},
   "source": [
    "## QCM"
   ]
  },
  {
   "cell_type": "markdown",
   "metadata": {},
   "source": [
    "### En vous aidant du code ci-dessus, compléter le texte avec les élèments suivantes: `sleep()`, `display.scroll()`, `str()`, `get_presses` et `button_a` : (certains peuvent être utilisés plusieurs fois)\n",
    "<br>\n",
    "\n",
    "### ♦ La fonction ... fera dormir le microbit pendant un certain nombre de millisecondes si vous voulez une pause dans votre programme."
   ]
  },
  {
   "cell_type": "code",
   "execution_count": 8,
   "metadata": {},
   "outputs": [],
   "source": [
    "import ipywidgets as widgets"
   ]
  },
  {
   "cell_type": "code",
   "execution_count": 9,
   "metadata": {},
   "outputs": [
    {
     "data": {
      "application/vnd.jupyter.widget-view+json": {
       "model_id": "9372bf054bed4cb5a7c4cb20ea21f322",
       "version_major": 2,
       "version_minor": 0
      },
      "text/plain": [
       "ToggleButtons(description='Réponse:', options=('sleep()', 'display.scroll()', 'str()', 'get_presses', 'button_…"
      ]
     },
     "metadata": {},
     "output_type": "display_data"
    }
   ],
   "source": [
    "widgets.ToggleButtons(\n",
    "    options=['sleep()', 'display.scroll()', 'str()', 'get_presses', 'button_a'],\n",
    "    description='Réponse:',\n",
    "    disabled=False,\n",
    "    tooltips=['Tu es sûr de toi ?', 'Tu es sûr de toi ?', 'Tu es sûr de toi ?', 'Tu es sûr de toi ?', 'Tu es sûr de toi ?'],\n",
    "\n",
    ")"
   ]
  },
  {
   "cell_type": "markdown",
   "metadata": {},
   "source": [
    "### ♦ Il existe un objet appelé ... et vous pouvez obtenir le nombre de fois où il a été pressé avec la get_presses méthode ."
   ]
  },
  {
   "cell_type": "code",
   "execution_count": 10,
   "metadata": {
    "scrolled": false
   },
   "outputs": [
    {
     "data": {
      "application/vnd.jupyter.widget-view+json": {
       "model_id": "640505add77c4e2688a05b31a00fa785",
       "version_major": 2,
       "version_minor": 0
      },
      "text/plain": [
       "ToggleButtons(description='Réponse:', options=('sleep()', 'display.scroll()', 'str()', 'get_presses', 'button_…"
      ]
     },
     "metadata": {},
     "output_type": "display_data"
    }
   ],
   "source": [
    "widgets.ToggleButtons(\n",
    "    options=['sleep()', 'display.scroll()', 'str()', 'get_presses', 'button_a'],\n",
    "    description='Réponse:',\n",
    "    disabled=False,\n",
    "    tooltips=['Tu es sûr de toi ?', 'Tu es sûr de toi ?', 'Tu es sûr de toi ?', 'Tu es sûr de toi ?', 'Tu es sûr de toi ?'],\n",
    "\n",
    ")"
   ]
  },
  {
   "cell_type": "markdown",
   "metadata": {},
   "source": [
    "### ♦ Puisque ... donne une valeur numérique et ... n’affiche que des caractères, nous devons convertir la valeur numérique en une chaîne de caractères. Nous faisons cela avec la fonction ... (abréviation de “string” ~ elle convertit les choses en chaînes de caractères)."
   ]
  },
  {
   "cell_type": "code",
   "execution_count": 11,
   "metadata": {},
   "outputs": [
    {
     "data": {
      "application/vnd.jupyter.widget-view+json": {
       "model_id": "a651d8c82777481b89d34be71ed18494",
       "version_major": 2,
       "version_minor": 0
      },
      "text/plain": [
       "ToggleButtons(description='Réponse:', options=('sleep()', 'display.scroll()', 'str()', 'get_presses', 'button_…"
      ]
     },
     "metadata": {},
     "output_type": "display_data"
    }
   ],
   "source": [
    "widgets.ToggleButtons(\n",
    "    options=['sleep()', 'display.scroll()', 'str()', 'get_presses', 'button_a'],\n",
    "    description='Réponse:',\n",
    "    disabled=False,\n",
    "    tooltips=['Tu es sûr de toi ?', 'Tu es sûr de toi ?', 'Tu es sûr de toi ?', 'Tu es sûr de toi ?', 'Tu es sûr de toi ?'],\n",
    "\n",
    ")"
   ]
  },
  {
   "cell_type": "code",
   "execution_count": 12,
   "metadata": {},
   "outputs": [
    {
     "data": {
      "application/vnd.jupyter.widget-view+json": {
       "model_id": "ee4f4f37411349569377c46a9ca2c545",
       "version_major": 2,
       "version_minor": 0
      },
      "text/plain": [
       "ToggleButtons(description='Réponse:', options=('sleep()', 'display.scroll()', 'str()', 'get_presses', 'button_…"
      ]
     },
     "metadata": {},
     "output_type": "display_data"
    }
   ],
   "source": [
    "widgets.ToggleButtons(\n",
    "    options=['sleep()', 'display.scroll()', 'str()', 'get_presses', 'button_a'],\n",
    "    description='Réponse:',\n",
    "    disabled=False,\n",
    "    tooltips=['Tu es sûr de toi ?', 'Tu es sûr de toi ?', 'Tu es sûr de toi ?', 'Tu es sûr de toi ?', 'Tu es sûr de toi ?'],\n",
    "\n",
    ")"
   ]
  },
  {
   "cell_type": "code",
   "execution_count": 13,
   "metadata": {},
   "outputs": [
    {
     "data": {
      "application/vnd.jupyter.widget-view+json": {
       "model_id": "95fd1a9e4c374ac8b7a72fd426158f2b",
       "version_major": 2,
       "version_minor": 0
      },
      "text/plain": [
       "ToggleButtons(description='Réponse:', options=('sleep()', 'display.scroll()', 'str()', 'get_presses', 'button_…"
      ]
     },
     "metadata": {},
     "output_type": "display_data"
    }
   ],
   "source": [
    "widgets.ToggleButtons(\n",
    "    options=['sleep()', 'display.scroll()', 'str()', 'get_presses', 'button_a'],\n",
    "    description='Réponse:',\n",
    "    disabled=False,\n",
    "    tooltips=['Tu es sûr de toi ?', 'Tu es sûr de toi ?', 'Tu es sûr de toi ?', 'Tu es sûr de toi ?', 'Tu es sûr de toi ?'],\n",
    "\n",
    ")"
   ]
  },
  {
   "cell_type": "markdown",
   "metadata": {},
   "source": [
    "### ♦ Vous remarquerez que la fonction ... contient la fonction ... qui elle-même contient `button_a.get_presses`. Python tente d’abord de trouver la réponse la plus interne avant de passer à la couche suivante."
   ]
  },
  {
   "cell_type": "code",
   "execution_count": 14,
   "metadata": {},
   "outputs": [
    {
     "data": {
      "application/vnd.jupyter.widget-view+json": {
       "model_id": "69c97563cad546d6a92f669665929dff",
       "version_major": 2,
       "version_minor": 0
      },
      "text/plain": [
       "ToggleButtons(description='Réponse:', options=('sleep()', 'display.scroll()', 'str()', 'get_presses', 'button_…"
      ]
     },
     "metadata": {},
     "output_type": "display_data"
    }
   ],
   "source": [
    "widgets.ToggleButtons(\n",
    "    options=['sleep()', 'display.scroll()', 'str()', 'get_presses', 'button_a'],\n",
    "    description='Réponse:',\n",
    "    disabled=False,\n",
    "    tooltips=['Tu es sûr de toi ?', 'Tu es sûr de toi ?', 'Tu es sûr de toi ?', 'Tu es sûr de toi ?', 'Tu es sûr de toi ?'],\n",
    "\n",
    ")"
   ]
  },
  {
   "cell_type": "code",
   "execution_count": 15,
   "metadata": {},
   "outputs": [
    {
     "data": {
      "application/vnd.jupyter.widget-view+json": {
       "model_id": "9947ca3fe1b24bc5910da09096c1e103",
       "version_major": 2,
       "version_minor": 0
      },
      "text/plain": [
       "ToggleButtons(description='Réponse:', options=('sleep()', 'display.scroll()', 'str()', 'get_presses', 'button_…"
      ]
     },
     "metadata": {},
     "output_type": "display_data"
    }
   ],
   "source": [
    "widgets.ToggleButtons(\n",
    "    options=['sleep()', 'display.scroll()', 'str()', 'get_presses', 'button_a'],\n",
    "    description='Réponse:',\n",
    "    disabled=False,\n",
    "    tooltips=['Tu es sûr de toi ?', 'Tu es sûr de toi ?', 'Tu es sûr de toi ?', 'Tu es sûr de toi ?', 'Tu es sûr de toi ?'],\n",
    "\n",
    ")"
   ]
  },
  {
   "cell_type": "markdown",
   "metadata": {},
   "source": [
    "## Touches\n",
    "\n",
    "<img src=\"image/pins.png\" alt=\"Touches 0,1,2\" width=40%>"
   ]
  },
  {
   "cell_type": "markdown",
   "metadata": {},
   "source": [
    "Les trois grandes broches (pin) repérées 0, 1, 2 sont sensibles à un changement de capacité provoqué au contact d'un doigt. Mais pour plus d'efficacité le plus sûr est de raccorder un bout d'un câble à pince crocodile au `GND` et avec l'autre bout de venir toucher la broche `0`."
   ]
  },
  {
   "cell_type": "code",
   "execution_count": null,
   "metadata": {},
   "outputs": [],
   "source": [
    "from microbit import *\n",
    "\n",
    "n=0 #n = nombre de personnes\n",
    "\n",
    "while True:\n",
    "    \n",
    "    if pin0.is_touched(): #si on touche le pin0\n",
    "        n=n-1 #n prend la valeur n-1\n",
    "        print(n)\n",
    "        display.show(Image.SAD)  #un visage triste apparaît\n",
    "    \n",
    "    if pin2.is_touched():\n",
    "        n=n+1  #n prend la valeur n+1\n",
    "        print(n)\n",
    "        display.show(Image.HAPPY) #un visage content apparaît"
   ]
  },
  {
   "cell_type": "markdown",
   "metadata": {},
   "source": [
    "# Programmation RaspBerry Pi avec Mu\n",
    "\n"
   ]
  },
  {
   "cell_type": "markdown",
   "metadata": {},
   "source": [
    "Si vous avez suivis ce bloc note et essayer le code sur les différents support proposés, il est possible de passer sur la RaspBerry Pi 3. Cela permettra, comme avec la MicroBit, d'utiliser de réels capteur.Il est aussi possible d'utiliser plus de matériels HardWare, pour avoir une solution plus réelle."
   ]
  },
  {
   "cell_type": "markdown",
   "metadata": {},
   "source": [
    "<img src=\"image/rb_pi.jpg\" width=40%>"
   ]
  },
  {
   "cell_type": "markdown",
   "metadata": {},
   "source": [
    "<strong>Pour cela il sera utile d'avoir :</strong>\n",
    "<br> \n",
    "- Une RaspBerry Pi 3 équipée de Mu</br>\n",
    "<br>\n",
    "- Des capteurs tor ou des boutons </br>\n",
    "<br> \n",
    "- Un écran d'ordinateur</br>"
   ]
  },
  {
   "cell_type": "markdown",
   "metadata": {},
   "source": [
    "Après avoir branché la carte, et lancé Mu, nous pouvons commencer le code."
   ]
  },
  {
   "cell_type": "code",
   "execution_count": null,
   "metadata": {},
   "outputs": [],
   "source": [
    "from tkinter import *  # on importe toute la biblio tkinter, biblio graphique\n",
    "from tkMessageBox import *  # on importe toute la biblio des fenetres pop up\n",
    "import time  # on importe la fonction de temps\n",
    "from audiere import *  # on importe toute la biblio Pyaudiere\n",
    "import RPi.GPIO as GPIO # on importe le GPIO, description ci-dessous\n",
    "\n",
    "# On definit les capteurs sur les pins 3 et 5\n",
    "capteur_IN = 3\n",
    "capteurde_IN = 5\n",
    "\n",
    "# variable du nb de personne et sa variable d'affichage\n",
    "nbpers = 645\n",
    "w = 'Il y a ' + str(nbpers) + ' de places prises'\n",
    "\n",
    "#variables des couleurs\n",
    "coolheure = \"spring green\"\n",
    "g1 = \"gray5\"\n",
    "g2 = \"grey10\"\n",
    "\n",
    "while True:\n",
    "    capteur = GPIO.input(capteur_IN)\n",
    "    capteurde = GPIO.input(capteurde_IN)\n",
    "    if capteur == 0: #capteur est activé\n",
    "        nbpers=nbpers+1\n",
    "        # création d'un son de 900Hz pendant 0.5sec\n",
    "        son=open_device().create_tone(900).play()\n",
    "        sleep(500)\n",
    "        son.stop()\n",
    "    if capteurde == 0: #capteurde est activé\n",
    "        nbpers=nbpers-1\n",
    "        son=open_device().create_tone(500).play()\n",
    "        sleep(500)\n",
    "        son.stop()\n",
    "    if n >= 100 :\n",
    "        coolheure = \"red\"\n",
    "    if n >= 110 :\n",
    "        coolheure = \"red\"\n",
    "        # fenetre pop up d'alerte de seuil, ou il y a plus de 10% de personne en trop.\n",
    "        showwarning('Attention', \"Vous allez depasser le seuil maximal !\")\n",
    "        'ok'\n",
    "    elif :\n",
    "        coolheure = \"spring green\"\n",
    "\n",
    "\n",
    "# on ouvre une fenetre graphique tkinter\n",
    "fenetre = Tk()\n",
    "\n",
    "# on crée un canvas pour l'affichage des données, un cadre gris et la valeur a l'intérieur\n",
    "canvas = Canvas(fenetre, width=1280, height=720, bg=\"gray20\")\n",
    "rectde = canvas.create_rectangle(250,150,950,570, fill=coolheure)\n",
    "trapun = canvas.create_polygon(200,100,250,150,250,570,200,620, fill=g1)\n",
    "trapde = canvas.create_polygon(200,100,250,150,950,150,1000,100, fill=g2)\n",
    "traptroa = canvas.create_polygon(1000,100,950,150,950,570,1000,620, fill=g1)\n",
    "trapkat = canvas.create_polygon(200,620,250,570,950,570,1000,620, fill=g2)\n",
    "\n",
    "# affichage du texte ainsi que la valeur de la variable\n",
    "txt = canvas.create_text(600, 350, text=w, font=\"Arial 40 italic\", fill=\"red\")\n",
    "canvas.pack()\n",
    "\n",
    "# boucle de mise a jour de la fenetre\n",
    "fenetre.mainloop() "
   ]
  },
  {
   "cell_type": "markdown",
   "metadata": {},
   "source": [
    "Tkinter est la bibliothèque graphique permettant l'affichage des données nécessaires pour les personnes voulant entrer et savoir la place dans le lieu.\n",
    "<img src=\"http://apprendre-python.com/images/hello-world.png\" >\n",
    "On peut alors y créer un Canvas comme dans p5.js, et y faire ce qu'on veut.<img src=\"http://apprendre-python.com/images/tkinter-canvas.png\" >"
   ]
  },
  {
   "cell_type": "markdown",
   "metadata": {},
   "source": [
    "Le GPIO permet d'intéragir physiquement avec la carte et donc le programme.\n",
    "<img src=\"image/GPIO_pins.png\" width=50%>\n",
    "Il est possible de le relier à une carte comme celle-ci permermettant des branchements plus simple.\n",
    "<img src=\"image/rb_schema.png\" width=50%>"
   ]
  },
  {
   "cell_type": "markdown",
   "metadata": {},
   "source": [
    "# QCM Récapitulatif:"
   ]
  },
  {
   "cell_type": "markdown",
   "metadata": {},
   "source": [
    "pourquoi il est important d'importer au départ ipywidegts:\n",
    "-car sinon on ne peut pas activer de boutons\n",
    "-car sinon ça créer des boutons partout\n",
    "-car sionn ça créer plein de page de dessin turtle"
   ]
  },
  {
   "cell_type": "code",
   "execution_count": 2,
   "metadata": {},
   "outputs": [],
   "source": [
    "import ipywidgets as widgets"
   ]
  },
  {
   "cell_type": "code",
   "execution_count": 3,
   "metadata": {},
   "outputs": [
    {
     "data": {
      "application/vnd.jupyter.widget-view+json": {
       "model_id": "70b2a543e5324b659fb53bd7b64c34c5",
       "version_major": 2,
       "version_minor": 0
      },
      "text/plain": [
       "Dropdown(description='t:', options=('étant la fenetre graphique qui peut-etre appelée une seul fois', 'étant l…"
      ]
     },
     "metadata": {},
     "output_type": "display_data"
    }
   ],
   "source": [
    "widgets.Dropdown(\n",
    "    options=['étant la fenetre graphique qui peut-etre appelée une seul fois','étant la fenetre graphique qui peut-etre appelée autant de fois demandé', 'étant la fenetre graphique qui permet de dessiner directement dessus'],\n",
    "    value='étant la fenetre graphique qui peut-etre appelée une seul fois',\n",
    "    description='t:',\n",
    "    disabled=False,\n",
    ")"
   ]
  },
  {
   "cell_type": "code",
   "execution_count": 68,
   "metadata": {},
   "outputs": [
    {
     "data": {
      "application/vnd.jupyter.widget-view+json": {
       "model_id": "12c2a7588a07426cbbf16767fd8f47e2",
       "version_major": 2,
       "version_minor": 0
      },
      "text/plain": [
       "Dropdown(description='t:', options=('1)ne sert a rien', '2)permet d activer la fenetre turtle', '3)est indispe…"
      ]
     },
     "metadata": {},
     "output_type": "display_data"
    }
   ],
   "source": [
    "widgets.Dropdown(\n",
    "    options=['1)ne sert a rien', '2)permet d activer la fenetre turtle' , '3)est indispensable pour la création de systemes interctif'],\n",
    "    value='1)ne sert a rien',\n",
    "    description='t:',\n",
    "    disabled=False,\n",
    ")"
   ]
  }
 ],
 "metadata": {
  "kernelspec": {
   "display_name": "Python 3",
   "language": "python",
   "name": "python3"
  },
  "language_info": {
   "codemirror_mode": {
    "name": "ipython",
    "version": 3
   },
   "file_extension": ".py",
   "mimetype": "text/x-python",
   "name": "python",
   "nbconvert_exporter": "python",
   "pygments_lexer": "ipython3",
   "version": "3.6.5"
  }
 },
 "nbformat": 4,
 "nbformat_minor": 2
}
